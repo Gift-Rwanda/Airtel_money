{
 "cells": [
  {
   "cell_type": "code",
   "execution_count": 1,
   "id": "2e7330e4-f625-4af5-8204-9f1b9ae91c44",
   "metadata": {},
   "outputs": [],
   "source": [
    "code=\"*211#\""
   ]
  },
  {
   "cell_type": "code",
   "execution_count": null,
   "id": "0d9328ef-5d41-4afb-90d0-1adc6635979e",
   "metadata": {},
   "outputs": [],
   "source": [
    "code_entry=input(\"enter code:\")"
   ]
  },
  {
   "cell_type": "code",
   "execution_count": null,
   "id": "aa69daa4-d8ec-4fde-a82d-2a73f0767773",
   "metadata": {},
   "outputs": [],
   "source": [
    "def sending():\n",
    "    input(\"enter number:\")\n",
    "    input(\"enter amount:\")\n",
    "    print(\"money sent successfully\")"
   ]
  },
  {
   "cell_type": "code",
   "execution_count": null,
   "id": "7237b3cc-065c-4a4c-8f2e-23246e2aacf2",
   "metadata": {},
   "outputs": [],
   "source": [
    "def withdrawing():\n",
    "    amount=input(\"enter amonut :\")\n",
    "    input(\"enter password:\")\n",
    "    print(f\"you have withdrawn {amount} from your account\")"
   ]
  },
  {
   "cell_type": "code",
   "execution_count": null,
   "id": "63899675-6800-44dd-904a-9700b4f9c5b5",
   "metadata": {},
   "outputs": [],
   "source": [
    "def resetting_pin():\n",
    "    input(\"enter new pin:\")\n",
    "    print(\"pin resetted!\")"
   ]
  },
  {
   "cell_type": "code",
   "execution_count": null,
   "id": "0335dfd6-2c3b-42bb-99d3-33c8e0efbd96",
   "metadata": {},
   "outputs": [],
   "source": [
    "def changing_pin():\n",
    "    input(\"enter old pin:\")\n",
    "    input(\"enter new pin:\")\n",
    "    print(\"pin updated\")"
   ]
  },
  {
   "cell_type": "code",
   "execution_count": null,
   "id": "1fa5e379-8713-4d80-a241-f04e7f8ab37a",
   "metadata": {},
   "outputs": [],
   "source": [
    "def checking_balance():\n",
    "    input(\"enter pin to check your balance:\")\n",
    "    print(\"your balance is k5500.00.\")"
   ]
  },
  {
   "cell_type": "code",
   "execution_count": null,
   "id": "c165bd6b-a3cb-4322-a6cf-ffd56b932671",
   "metadata": {},
   "outputs": [],
   "source": [
    "while True:\n",
    "    if code==code_entry:\n",
    "        menu=int(input(\"1.Buy Airtime/bundle, 2.Send Money, 3.Make payments, 4.Withdraw Money, 5.Financial Services, 6.Bank, 7.Account, 8.MANEB:\"))\n",
    "        if menu==1:\n",
    "            choice=int(input(\"1.Buy AIRTIME, 2.Buy bundles:\"))\n",
    "            if choice==1:\n",
    "                number=int(input(\"1.for my number, 2.for another number, 3.Favorites:\"))\n",
    "                if number==1:\n",
    "                    amount=float(input(\"enter amount:\"))\n",
    "                    print(f\"your account has been creditted with {amount}, thank you for choosing airtel.\")\n",
    "                    break\n",
    "                elif number==2:\n",
    "                    number_entry=input(\"enter number:\")\n",
    "                    amount=float(input(\"enter amount\"))\n",
    "                    print(f\"you have creditted {number_entry} with {amount}\")\n",
    "                    break\n",
    "                elif number==3:\n",
    "                    print(\"you do not have favorites.\")\n",
    "                    break\n",
    "                else:\n",
    "                    print(\"invalid entry.\")\n",
    "                    break\n",
    "            elif choice==2:\n",
    "                choose=input(\"1.Internet Bundles, 2.Voice Bundles, 3.MyOffer, 4.SMS bundle, 5.Kutapa, 6.ChezaFaya Bundles, 7.Weekend bonus bundles, 8.Download Airtel App (200MB Free), N.Next :\")\n",
    "                if choose==\"1\":\n",
    "                    bundle=int(input(\"1.PaNet MoFaya Bundles, 2.PaNet Gifts, 3.Home Broadband, 4.MIFI Bundles, 5.PaNet Office Internet, 0.for previous menu, 00.main menu:\"))\n",
    "                    print(\"redirecting...\")\n",
    "                    break\n",
    "        elif menu==2:\n",
    "            number=input(\"1.Airtel Number, 2.TNM Number :\")\n",
    "            if number==1:\n",
    "                sending()\n",
    "                break\n",
    "            elif number==2:\n",
    "                sending()\n",
    "                break\n",
    "            else:\n",
    "                print(\"invalid input.\")\n",
    "                break\n",
    "        elif menu==3:\n",
    "            print(\"redirecting...\")\n",
    "            break\n",
    "        elif menu==4:\n",
    "            withdrawing()\n",
    "            break\n",
    "        elif menu==5:\n",
    "            service=input(\"1.kutchova Loan, 2.Phuka, 3.Limodzi Insuarance :\")\n",
    "            print(\"redirecting...\")\n",
    "        elif menu==6:\n",
    "            print(\"redirecting...\")\n",
    "            break\n",
    "        elif menu==7:\n",
    "            my_account=input(\"1.My Pin, 2.Reports, 3.check balance, 4.Manage Favorites, 5.My Transaction Reversals, 6.Change Language:\")\n",
    "            if my_account==\"1\":\n",
    "                info=input(\"1.Reset/Forgot PIN, 2.Security Question, 3.Change Pin, 4.Learn More :\")\n",
    "                if info==\"1\":\n",
    "                    resetting_pin()\n",
    "                    break\n",
    "                elif info==\"2\":\n",
    "                    security=input(\"1.Set/change, 2.View\")\n",
    "                    if security==\"1\":\n",
    "                        input(\"enter security question:\")\n",
    "                        input(\"enter an answer:\")\n",
    "                        print(\"security question successfuly set\")\n",
    "                        break\n",
    "                    elif security==\"2\":\n",
    "                        print(\"you do not have security question please set it\")\n",
    "                        break\n",
    "                elif info==\"3\":\n",
    "                    changing_pin()\n",
    "                    break\n",
    "                elif info==\"4\":\n",
    "                    print(\"loading...\")\n",
    "                    break\n",
    "            elif my_account==\"2\":\n",
    "                print(\"loading...\")\n",
    "            elif my_account==\"3\":\n",
    "                checking_balance()\n",
    "                break\n",
    "            elif my_account==\"4\":\n",
    "                print(\"loading...\")\n",
    "                break\n",
    "            elif my_account==\"5\":\n",
    "                print(\"loading...\")\n",
    "                break\n",
    "            elif my_account==\"6\":\n",
    "                print(\"loading\")\n",
    "                break"
   ]
  }
 ],
 "metadata": {
  "kernelspec": {
   "display_name": "Python 3 (ipykernel)",
   "language": "python",
   "name": "python3"
  },
  "language_info": {
   "codemirror_mode": {
    "name": "ipython",
    "version": 3
   },
   "file_extension": ".py",
   "mimetype": "text/x-python",
   "name": "python",
   "nbconvert_exporter": "python",
   "pygments_lexer": "ipython3",
   "version": "3.13.2"
  }
 },
 "nbformat": 4,
 "nbformat_minor": 5
}
